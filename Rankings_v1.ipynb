{
 "cells": [
  {
   "cell_type": "code",
   "execution_count": 1,
   "metadata": {
    "collapsed": true
   },
   "outputs": [],
   "source": [
    "import os\n",
    "import pandas as pd\n",
    "# from bs4 import BeautifulSoup\n",
    "# import urllib.request\n",
    "import requests\n",
    "\n",
    "path_base = 'C:\\\\Users\\\\vishesh.vishesh\\\\Desktop\\\\Py\\\\Rankings'"
   ]
  },
  {
   "cell_type": "code",
   "execution_count": 2,
   "metadata": {
    "collapsed": false
   },
   "outputs": [],
   "source": [
    "# TFE Rankings\n",
    "url_tfe = 'https://tfetimes.com/2016-computer-science-rankings/'\n",
    "df_tfe = pd.read_html(url_tfe,header=0)[0]\n",
    "df_tfe.drop(['Program'],axis=1,inplace=True)\n",
    "df_tfe.columns = [\"Rank_TFE\", \"University\"]\n"
   ]
  },
  {
   "cell_type": "code",
   "execution_count": 3,
   "metadata": {
    "collapsed": true
   },
   "outputs": [],
   "source": [
    "# TFE to excel\n",
    "writer_tfe = pd.ExcelWriter(os.path.join(path_base,'tfe.xlsx'), engine='xlsxwriter')\n",
    "df_tfe.to_excel(writer_tfe, index = False)"
   ]
  },
  {
   "cell_type": "code",
   "execution_count": 3,
   "metadata": {
    "collapsed": false
   },
   "outputs": [
    {
     "data": {
      "text/html": [
       "<div>\n",
       "<table border=\"1\" class=\"dataframe\">\n",
       "  <thead>\n",
       "    <tr style=\"text-align: right;\">\n",
       "      <th></th>\n",
       "      <th>Rank_TFE</th>\n",
       "      <th>University</th>\n",
       "    </tr>\n",
       "  </thead>\n",
       "  <tbody>\n",
       "    <tr>\n",
       "      <th>0</th>\n",
       "      <td>1</td>\n",
       "      <td>Stanford University</td>\n",
       "    </tr>\n",
       "    <tr>\n",
       "      <th>1</th>\n",
       "      <td>2</td>\n",
       "      <td>Carnegie Mellon University</td>\n",
       "    </tr>\n",
       "    <tr>\n",
       "      <th>2</th>\n",
       "      <td>3</td>\n",
       "      <td>Georgia Institute of Technology</td>\n",
       "    </tr>\n",
       "    <tr>\n",
       "      <th>3</th>\n",
       "      <td>4</td>\n",
       "      <td>University of California, Berkeley</td>\n",
       "    </tr>\n",
       "    <tr>\n",
       "      <th>4</th>\n",
       "      <td>5</td>\n",
       "      <td>Massachusetts Institute of Technology</td>\n",
       "    </tr>\n",
       "    <tr>\n",
       "      <th>5</th>\n",
       "      <td>6</td>\n",
       "      <td>University of Washington</td>\n",
       "    </tr>\n",
       "    <tr>\n",
       "      <th>6</th>\n",
       "      <td>7</td>\n",
       "      <td>Princeton University</td>\n",
       "    </tr>\n",
       "    <tr>\n",
       "      <th>7</th>\n",
       "      <td>8</td>\n",
       "      <td>Cornell University</td>\n",
       "    </tr>\n",
       "    <tr>\n",
       "      <th>8</th>\n",
       "      <td>9</td>\n",
       "      <td>University of Illinois at Urbana-Champaign</td>\n",
       "    </tr>\n",
       "    <tr>\n",
       "      <th>9</th>\n",
       "      <td>10</td>\n",
       "      <td>University of Pennsylvania</td>\n",
       "    </tr>\n",
       "    <tr>\n",
       "      <th>10</th>\n",
       "      <td>11</td>\n",
       "      <td>University of Texas at Austin</td>\n",
       "    </tr>\n",
       "    <tr>\n",
       "      <th>11</th>\n",
       "      <td>12</td>\n",
       "      <td>University of Wisconsin-Madison</td>\n",
       "    </tr>\n",
       "    <tr>\n",
       "      <th>12</th>\n",
       "      <td>13</td>\n",
       "      <td>University of Michigan</td>\n",
       "    </tr>\n",
       "    <tr>\n",
       "      <th>13</th>\n",
       "      <td>14</td>\n",
       "      <td>University of Southern California</td>\n",
       "    </tr>\n",
       "    <tr>\n",
       "      <th>14</th>\n",
       "      <td>15</td>\n",
       "      <td>California Institute of Technology</td>\n",
       "    </tr>\n",
       "    <tr>\n",
       "      <th>15</th>\n",
       "      <td>16</td>\n",
       "      <td>University of California, Los Angeles</td>\n",
       "    </tr>\n",
       "    <tr>\n",
       "      <th>16</th>\n",
       "      <td>17</td>\n",
       "      <td>Yale University</td>\n",
       "    </tr>\n",
       "    <tr>\n",
       "      <th>17</th>\n",
       "      <td>18</td>\n",
       "      <td>Columbia University</td>\n",
       "    </tr>\n",
       "    <tr>\n",
       "      <th>18</th>\n",
       "      <td>19</td>\n",
       "      <td>University of California, San Diego</td>\n",
       "    </tr>\n",
       "    <tr>\n",
       "      <th>19</th>\n",
       "      <td>20</td>\n",
       "      <td>University of Maryland, College Park</td>\n",
       "    </tr>\n",
       "    <tr>\n",
       "      <th>20</th>\n",
       "      <td>21</td>\n",
       "      <td>Rice University</td>\n",
       "    </tr>\n",
       "    <tr>\n",
       "      <th>21</th>\n",
       "      <td>22</td>\n",
       "      <td>University of Massachusetts Amherst</td>\n",
       "    </tr>\n",
       "    <tr>\n",
       "      <th>22</th>\n",
       "      <td>23</td>\n",
       "      <td>Harvard University</td>\n",
       "    </tr>\n",
       "    <tr>\n",
       "      <th>23</th>\n",
       "      <td>24</td>\n",
       "      <td>University of North Carolina at Chapel Hill</td>\n",
       "    </tr>\n",
       "    <tr>\n",
       "      <th>24</th>\n",
       "      <td>25</td>\n",
       "      <td>Pennsylvania State University University Park</td>\n",
       "    </tr>\n",
       "  </tbody>\n",
       "</table>\n",
       "</div>"
      ],
      "text/plain": [
       "    Rank_TFE                                     University\n",
       "0          1                            Stanford University\n",
       "1          2                     Carnegie Mellon University\n",
       "2          3                Georgia Institute of Technology\n",
       "3          4             University of California, Berkeley\n",
       "4          5          Massachusetts Institute of Technology\n",
       "5          6                       University of Washington\n",
       "6          7                           Princeton University\n",
       "7          8                             Cornell University\n",
       "8          9     University of Illinois at Urbana-Champaign\n",
       "9         10                     University of Pennsylvania\n",
       "10        11                  University of Texas at Austin\n",
       "11        12                University of Wisconsin-Madison\n",
       "12        13                         University of Michigan\n",
       "13        14              University of Southern California\n",
       "14        15             California Institute of Technology\n",
       "15        16          University of California, Los Angeles\n",
       "16        17                                Yale University\n",
       "17        18                            Columbia University\n",
       "18        19            University of California, San Diego\n",
       "19        20           University of Maryland, College Park\n",
       "20        21                                Rice University\n",
       "21        22            University of Massachusetts Amherst\n",
       "22        23                             Harvard University\n",
       "23        24    University of North Carolina at Chapel Hill\n",
       "24        25  Pennsylvania State University University Park"
      ]
     },
     "execution_count": 3,
     "metadata": {},
     "output_type": "execute_result"
    }
   ],
   "source": [
    "df_tfe.head(25)"
   ]
  },
  {
   "cell_type": "code",
   "execution_count": 4,
   "metadata": {
    "collapsed": false
   },
   "outputs": [
    {
     "data": {
      "text/plain": [
       "242"
      ]
     },
     "execution_count": 4,
     "metadata": {},
     "output_type": "execute_result"
    }
   ],
   "source": [
    "len(df_tfe)"
   ]
  },
  {
   "cell_type": "code",
   "execution_count": 5,
   "metadata": {
    "collapsed": true
   },
   "outputs": [],
   "source": [
    "# US New Rankings\n",
    "url_usn = 'http://grad-schools.usnews.rankingsandreviews.com/best-graduate-schools/top-science-schools/computer-science-rankings'\n",
    "\n",
    "url_list = [url_usn]\n",
    "url_base = 'http://grad-schools.usnews.rankingsandreviews.com/best-graduate-schools/top-science-schools/computer-science-rankings/page+'\n",
    "\n",
    "for i in range(2,6):\n",
    "\turl_list.append(url_base + str(i))\n",
    "\n",
    "\n",
    "header = {'User-Agent': 'Mozilla/5.0'} # Needed to prevent 403 error\n",
    "\n",
    "dfs = []\n",
    "def read_tables(x):\n",
    "\tfor url in x:\n",
    "\t\tdfs.append(pd.read_html(requests.get(url,headers=header).text,attrs={'class': 'ranking-data table         table-lighthead \\\n",
    "        table-packed ranking-data-free '})[0])\n",
    "\n",
    "read_tables(url_list)"
   ]
  },
  {
   "cell_type": "code",
   "execution_count": 6,
   "metadata": {
    "collapsed": true
   },
   "outputs": [],
   "source": [
    "usn_frames = []\n",
    "# Cleaning USN data\n",
    "for df in dfs:\n",
    "    # Delete row at index 3\n",
    "    df.drop(df.index[[3]], inplace=True)\n",
    "    # Rename columns \n",
    "    df.columns = ['Rank','University','Score']\n",
    "    # Strip Rank to extract only number\n",
    "    df['Rank'].replace(regex=True,inplace=True,to_replace=r'\\D',value=r'')\n",
    "    df.drop(['Score'],axis=1,inplace=True)\n",
    "    df.columns = [\"Rank_USN\", \"University\"]\n",
    "    usn_frames.append(df)"
   ]
  },
  {
   "cell_type": "code",
   "execution_count": 7,
   "metadata": {
    "collapsed": true
   },
   "outputs": [],
   "source": [
    "df_usn = pd.concat(usn_frames,ignore_index=True)"
   ]
  },
  {
   "cell_type": "code",
   "execution_count": 8,
   "metadata": {
    "collapsed": false
   },
   "outputs": [
    {
     "data": {
      "text/html": [
       "<div>\n",
       "<table border=\"1\" class=\"dataframe\">\n",
       "  <thead>\n",
       "    <tr style=\"text-align: right;\">\n",
       "      <th></th>\n",
       "      <th>Rank_USN</th>\n",
       "      <th>University</th>\n",
       "    </tr>\n",
       "  </thead>\n",
       "  <tbody>\n",
       "    <tr>\n",
       "      <th>0</th>\n",
       "      <td>1</td>\n",
       "      <td>Carnegie Mellon University Pittsburgh, PA</td>\n",
       "    </tr>\n",
       "    <tr>\n",
       "      <th>1</th>\n",
       "      <td>1</td>\n",
       "      <td>Massachusetts Institute of Technology Cambridg...</td>\n",
       "    </tr>\n",
       "    <tr>\n",
       "      <th>2</th>\n",
       "      <td>1</td>\n",
       "      <td>Stanford University Stanford, CA</td>\n",
       "    </tr>\n",
       "    <tr>\n",
       "      <th>3</th>\n",
       "      <td>1</td>\n",
       "      <td>University of California—​Berkeley Berkeley, CA</td>\n",
       "    </tr>\n",
       "    <tr>\n",
       "      <th>4</th>\n",
       "      <td>5</td>\n",
       "      <td>University of Illinois—​Urbana-​Champaign Urba...</td>\n",
       "    </tr>\n",
       "    <tr>\n",
       "      <th>5</th>\n",
       "      <td>6</td>\n",
       "      <td>Cornell University Ithaca, NY</td>\n",
       "    </tr>\n",
       "    <tr>\n",
       "      <th>6</th>\n",
       "      <td>6</td>\n",
       "      <td>University of Washington Seattle, WA</td>\n",
       "    </tr>\n",
       "    <tr>\n",
       "      <th>7</th>\n",
       "      <td>8</td>\n",
       "      <td>Princeton University Princeton, NJ</td>\n",
       "    </tr>\n",
       "    <tr>\n",
       "      <th>8</th>\n",
       "      <td>9</td>\n",
       "      <td>Georgia Institute of Technology Atlanta, GA</td>\n",
       "    </tr>\n",
       "    <tr>\n",
       "      <th>9</th>\n",
       "      <td>9</td>\n",
       "      <td>University of Texas—​Austin Austin, TX</td>\n",
       "    </tr>\n",
       "    <tr>\n",
       "      <th>10</th>\n",
       "      <td>11</td>\n",
       "      <td>California Institute of Technology Pasadena, CA</td>\n",
       "    </tr>\n",
       "    <tr>\n",
       "      <th>11</th>\n",
       "      <td>11</td>\n",
       "      <td>University of Wisconsin—​Madison Madison, WI</td>\n",
       "    </tr>\n",
       "    <tr>\n",
       "      <th>12</th>\n",
       "      <td>13</td>\n",
       "      <td>University of California—​Los Angeles Los Ange...</td>\n",
       "    </tr>\n",
       "    <tr>\n",
       "      <th>13</th>\n",
       "      <td>13</td>\n",
       "      <td>University of Michigan—​Ann Arbor Ann Arbor, MI</td>\n",
       "    </tr>\n",
       "    <tr>\n",
       "      <th>14</th>\n",
       "      <td>15</td>\n",
       "      <td>Columbia University New York, NY</td>\n",
       "    </tr>\n",
       "    <tr>\n",
       "      <th>15</th>\n",
       "      <td>15</td>\n",
       "      <td>University of California—​San Diego La Jolla, CA</td>\n",
       "    </tr>\n",
       "    <tr>\n",
       "      <th>16</th>\n",
       "      <td>15</td>\n",
       "      <td>University of Maryland—​College Park College P...</td>\n",
       "    </tr>\n",
       "    <tr>\n",
       "      <th>17</th>\n",
       "      <td>18</td>\n",
       "      <td>Harvard University Cambridge, MA</td>\n",
       "    </tr>\n",
       "    <tr>\n",
       "      <th>18</th>\n",
       "      <td>19</td>\n",
       "      <td>University of Pennsylvania Philadelphia, PA</td>\n",
       "    </tr>\n",
       "    <tr>\n",
       "      <th>19</th>\n",
       "      <td>20</td>\n",
       "      <td>Brown University Providence, RI</td>\n",
       "    </tr>\n",
       "    <tr>\n",
       "      <th>20</th>\n",
       "      <td>20</td>\n",
       "      <td>Purdue University—​West Lafayette West Lafayet...</td>\n",
       "    </tr>\n",
       "    <tr>\n",
       "      <th>21</th>\n",
       "      <td>20</td>\n",
       "      <td>Rice University Houston, TX</td>\n",
       "    </tr>\n",
       "    <tr>\n",
       "      <th>22</th>\n",
       "      <td>20</td>\n",
       "      <td>University of Southern California Los Angeles, CA</td>\n",
       "    </tr>\n",
       "    <tr>\n",
       "      <th>23</th>\n",
       "      <td>20</td>\n",
       "      <td>Yale University New Haven, CT</td>\n",
       "    </tr>\n",
       "    <tr>\n",
       "      <th>24</th>\n",
       "      <td>25</td>\n",
       "      <td>Duke University Durham, NC</td>\n",
       "    </tr>\n",
       "  </tbody>\n",
       "</table>\n",
       "</div>"
      ],
      "text/plain": [
       "   Rank_USN                                         University\n",
       "0         1          Carnegie Mellon University Pittsburgh, PA\n",
       "1         1  Massachusetts Institute of Technology Cambridg...\n",
       "2         1                   Stanford University Stanford, CA\n",
       "3         1    University of California—​Berkeley Berkeley, CA\n",
       "4         5  University of Illinois—​Urbana-​Champaign Urba...\n",
       "5         6                      Cornell University Ithaca, NY\n",
       "6         6               University of Washington Seattle, WA\n",
       "7         8                 Princeton University Princeton, NJ\n",
       "8         9        Georgia Institute of Technology Atlanta, GA\n",
       "9         9             University of Texas—​Austin Austin, TX\n",
       "10       11    California Institute of Technology Pasadena, CA\n",
       "11       11       University of Wisconsin—​Madison Madison, WI\n",
       "12       13  University of California—​Los Angeles Los Ange...\n",
       "13       13    University of Michigan—​Ann Arbor Ann Arbor, MI\n",
       "14       15                   Columbia University New York, NY\n",
       "15       15   University of California—​San Diego La Jolla, CA\n",
       "16       15  University of Maryland—​College Park College P...\n",
       "17       18                   Harvard University Cambridge, MA\n",
       "18       19        University of Pennsylvania Philadelphia, PA\n",
       "19       20                    Brown University Providence, RI\n",
       "20       20  Purdue University—​West Lafayette West Lafayet...\n",
       "21       20                        Rice University Houston, TX\n",
       "22       20  University of Southern California Los Angeles, CA\n",
       "23       20                      Yale University New Haven, CT\n",
       "24       25                         Duke University Durham, NC"
      ]
     },
     "execution_count": 8,
     "metadata": {},
     "output_type": "execute_result"
    }
   ],
   "source": [
    "df_usn.head(25)"
   ]
  },
  {
   "cell_type": "code",
   "execution_count": 9,
   "metadata": {
    "collapsed": false
   },
   "outputs": [
    {
     "data": {
      "text/plain": [
       "125"
      ]
     },
     "execution_count": 9,
     "metadata": {},
     "output_type": "execute_result"
    }
   ],
   "source": [
    "len(df_usn)"
   ]
  },
  {
   "cell_type": "code",
   "execution_count": 10,
   "metadata": {
    "collapsed": false
   },
   "outputs": [],
   "source": [
    "# USN to excel\n",
    "writer_usn = pd.ExcelWriter(os.path.join(path_base,'usn.xlsx'), engine='xlsxwriter')\n",
    "df_usn.to_excel(writer_usn,index=False)"
   ]
  },
  {
   "cell_type": "code",
   "execution_count": 10,
   "metadata": {
    "collapsed": false
   },
   "outputs": [],
   "source": [
    "# Happy Schools ranking\n",
    "\n",
    "url_hs = 'http://www.happyschools.com/nrc-computer-science-rankings/'\n",
    "df_hs = pd.read_html(requests.get(url_hs,headers=header).text,header=0)[0]\n",
    "df_hs.drop(['R-Rank','S-Rank'],axis=1,inplace=True)\n",
    "df_hs.columns = [\"Rank_HS\", \"University\"]"
   ]
  },
  {
   "cell_type": "code",
   "execution_count": 11,
   "metadata": {
    "collapsed": false
   },
   "outputs": [
    {
     "data": {
      "text/plain": [
       "128"
      ]
     },
     "execution_count": 11,
     "metadata": {},
     "output_type": "execute_result"
    }
   ],
   "source": [
    "#df_hs.head(25)\n",
    "len(df_hs)"
   ]
  },
  {
   "cell_type": "code",
   "execution_count": 12,
   "metadata": {
    "collapsed": false
   },
   "outputs": [],
   "source": [
    "# To lowercase\n",
    "df_hs['University'] = df_hs['University'].apply(lambda x: str(x).lower())"
   ]
  },
  {
   "cell_type": "code",
   "execution_count": 13,
   "metadata": {
    "collapsed": true
   },
   "outputs": [],
   "source": [
    "# First letter capital\n",
    "df_hs['University'] = df_hs['University'].apply(lambda x: str(x).title())"
   ]
  },
  {
   "cell_type": "code",
   "execution_count": 13,
   "metadata": {
    "collapsed": true
   },
   "outputs": [],
   "source": [
    "# HS to excel\n",
    "writer_hs = pd.ExcelWriter(os.path.join(path_base,'hs.xlsx'), engine='xlsxwriter')\n",
    "df_hs.to_excel(writer_hs, index = False)"
   ]
  },
  {
   "cell_type": "code",
   "execution_count": 14,
   "metadata": {
    "collapsed": false
   },
   "outputs": [],
   "source": [
    "# msinus ranking\n",
    "\n",
    "url_msinus = 'http://www.msinus.com/content/computer-science-rankings-us-universities-265/'\n",
    "df_msinus = pd.read_html(url_msinus,header=None)[0]\n",
    "df_msinus.columns = [\"Rank_MSINUS\",\"University\", \"Location\"]\n",
    "df_msinus.drop(['Location'],axis=1,inplace=True)"
   ]
  },
  {
   "cell_type": "code",
   "execution_count": 23,
   "metadata": {
    "collapsed": false
   },
   "outputs": [
    {
     "name": "stdout",
     "output_type": "stream",
     "text": [
      "80\n",
      "80\n",
      "128\n",
      "80\n",
      "125\n",
      "80\n",
      "242\n",
      "80\n"
     ]
    }
   ],
   "source": [
    "#df_msinus.head(25)\n",
    "#len(df_msinus)\n",
    "x = min(len(df_msinus),len(df_hs),len(df_usn),len(df_tfe))\n",
    "l = [df_msinus,df_hs,df_usn,df_tfe]\n",
    "for a in l:\n",
    "    print(len(a))\n",
    "    a = a.head(x)\n",
    "    print(len(a))"
   ]
  },
  {
   "cell_type": "code",
   "execution_count": 27,
   "metadata": {
    "collapsed": false
   },
   "outputs": [
    {
     "data": {
      "text/plain": [
       "80"
      ]
     },
     "execution_count": 27,
     "metadata": {},
     "output_type": "execute_result"
    }
   ],
   "source": [
    "df_msinus = df_msinus.head(80)\n",
    "df_hs = df_hs.head(80)\n",
    "df_usn = df_usn.head(80)\n",
    "df_tfe = df_tfe.head(80)\n",
    "len(df_usn)"
   ]
  },
  {
   "cell_type": "code",
   "execution_count": 30,
   "metadata": {
    "collapsed": false
   },
   "outputs": [
    {
     "data": {
      "text/plain": [
       "80"
      ]
     },
     "execution_count": 30,
     "metadata": {},
     "output_type": "execute_result"
    }
   ],
   "source": [
    "len(df_msinus)"
   ]
  },
  {
   "cell_type": "code",
   "execution_count": 31,
   "metadata": {
    "collapsed": false
   },
   "outputs": [],
   "source": [
    "changes = {'Berkeley':'UC Berkeley','Carnegie':'CMU','Massachusetts Institute of Technology':'MIT',\n",
    "          'Stanford':'Stanford University', 'Champaign':'UIUC', 'Cornell':'Cornell University',\n",
    "           'University of Washington':'UW Seattle','Princeton':'Princeton University', \n",
    "           'Georgia Institute of Technology':'Georgia Tech', 'Austin':'UT Austin','Madison':'UW Madison', \n",
    "           'Los Angeles':'UCLA', 'University of Michigan':'UMich Ann Arbor',\n",
    "           'Columbia University':'Columbia University', 'College Park':'UMCP','Harvard University':'Harvard University',\n",
    "           'University of Pennsylvania':'UPenn','Brown University':'Brown University','Rice University':'Rice University',\n",
    "           'University of Southern California':'USC','Yale':'Yale University','Duke':'Duke University', \n",
    "           'Purdue':'Purdue University','Rice':'Rice University','San Diego':'UCSD','Amherst':'UMass Amherst',\n",
    "           'Chapel Hill':'UNC Chapel Hill','Johns Hopkins':'JHU','New York University':'NYU',\n",
    "           'Pennsylvania State University':'Penn State','Irvine':'UC Irvine','Minnesota':'UMinn Twin Cities',\n",
    "           'University of Virgina':'UVa','Northwestern':'NWU','Ohio State':'OSU','Rutgers':'Rutgers','Davis':'UC Davis',\n",
    "           'Santa Barbara':'UC Santa Barbara'\n",
    "          }"
   ]
  },
  {
   "cell_type": "code",
   "execution_count": 32,
   "metadata": {
    "collapsed": false
   },
   "outputs": [],
   "source": [
    "for k,v in changes.items():\n",
    "    df_msinus.loc[df_msinus['University'].str.contains(k, case=False), 'University'] = v"
   ]
  },
  {
   "cell_type": "code",
   "execution_count": 33,
   "metadata": {
    "collapsed": true
   },
   "outputs": [],
   "source": [
    "for k,v in changes.items():\n",
    "    df_usn.loc[df_usn['University'].str.contains(k, case=False), 'University'] = v"
   ]
  },
  {
   "cell_type": "code",
   "execution_count": 34,
   "metadata": {
    "collapsed": false
   },
   "outputs": [
    {
     "name": "stderr",
     "output_type": "stream",
     "text": [
      "C:\\Anaconda3\\lib\\site-packages\\pandas\\core\\indexing.py:420: SettingWithCopyWarning: \n",
      "A value is trying to be set on a copy of a slice from a DataFrame.\n",
      "Try using .loc[row_indexer,col_indexer] = value instead\n",
      "\n",
      "See the caveats in the documentation: http://pandas.pydata.org/pandas-docs/stable/indexing.html#indexing-view-versus-copy\n",
      "  self.obj[item] = s\n"
     ]
    }
   ],
   "source": [
    "for k,v in changes.items():\n",
    "    df_hs.loc[df_hs['University'].str.contains(k, case=False), 'University'] = v"
   ]
  },
  {
   "cell_type": "code",
   "execution_count": 35,
   "metadata": {
    "collapsed": false
   },
   "outputs": [
    {
     "name": "stderr",
     "output_type": "stream",
     "text": [
      "C:\\Anaconda3\\lib\\site-packages\\pandas\\core\\indexing.py:420: SettingWithCopyWarning: \n",
      "A value is trying to be set on a copy of a slice from a DataFrame.\n",
      "Try using .loc[row_indexer,col_indexer] = value instead\n",
      "\n",
      "See the caveats in the documentation: http://pandas.pydata.org/pandas-docs/stable/indexing.html#indexing-view-versus-copy\n",
      "  self.obj[item] = s\n"
     ]
    }
   ],
   "source": [
    "for k,v in changes.items():\n",
    "    df_tfe.loc[df_tfe['University'].str.contains(k, case=False), 'University'] = v"
   ]
  },
  {
   "cell_type": "code",
   "execution_count": 16,
   "metadata": {
    "collapsed": true
   },
   "outputs": [],
   "source": [
    "# msinus to excel\n",
    "writer_msinus = pd.ExcelWriter(os.path.join(path_base,'msinus.xlsx'), engine='xlsxwriter')\n",
    "df_msinus.to_excel(writer_msinus, index = False)"
   ]
  },
  {
   "cell_type": "code",
   "execution_count": 36,
   "metadata": {
    "collapsed": true
   },
   "outputs": [],
   "source": [
    "x = pd.merge(df_msinus,df_hs,how='inner',on='University')"
   ]
  },
  {
   "cell_type": "code",
   "execution_count": 37,
   "metadata": {
    "collapsed": false
   },
   "outputs": [],
   "source": [
    "y = pd.merge(x,df_tfe,how='inner',on='University')"
   ]
  },
  {
   "cell_type": "code",
   "execution_count": 38,
   "metadata": {
    "collapsed": false
   },
   "outputs": [],
   "source": [
    "z = pd.merge(y,df_usn,how='inner',on='University')"
   ]
  },
  {
   "cell_type": "code",
   "execution_count": 39,
   "metadata": {
    "collapsed": false
   },
   "outputs": [
    {
     "data": {
      "text/html": [
       "<div>\n",
       "<table border=\"1\" class=\"dataframe\">\n",
       "  <thead>\n",
       "    <tr style=\"text-align: right;\">\n",
       "      <th></th>\n",
       "      <th>Rank_MSINUS</th>\n",
       "      <th>University</th>\n",
       "      <th>Rank_HS</th>\n",
       "      <th>Rank_TFE</th>\n",
       "      <th>Rank_USN</th>\n",
       "    </tr>\n",
       "  </thead>\n",
       "  <tbody>\n",
       "    <tr>\n",
       "      <th>0</th>\n",
       "      <td>1</td>\n",
       "      <td>MIT</td>\n",
       "      <td>2</td>\n",
       "      <td>5</td>\n",
       "      <td>1</td>\n",
       "    </tr>\n",
       "    <tr>\n",
       "      <th>1</th>\n",
       "      <td>2</td>\n",
       "      <td>Stanford University</td>\n",
       "      <td>1</td>\n",
       "      <td>1</td>\n",
       "      <td>1</td>\n",
       "    </tr>\n",
       "    <tr>\n",
       "      <th>2</th>\n",
       "      <td>3</td>\n",
       "      <td>UC Berkeley</td>\n",
       "      <td>5</td>\n",
       "      <td>4</td>\n",
       "      <td>1</td>\n",
       "    </tr>\n",
       "    <tr>\n",
       "      <th>3</th>\n",
       "      <td>4</td>\n",
       "      <td>CMU</td>\n",
       "      <td>4</td>\n",
       "      <td>2</td>\n",
       "      <td>1</td>\n",
       "    </tr>\n",
       "    <tr>\n",
       "      <th>4</th>\n",
       "      <td>5</td>\n",
       "      <td>Cornell University</td>\n",
       "      <td>7</td>\n",
       "      <td>8</td>\n",
       "      <td>6</td>\n",
       "    </tr>\n",
       "    <tr>\n",
       "      <th>5</th>\n",
       "      <td>6</td>\n",
       "      <td>Princeton University</td>\n",
       "      <td>3</td>\n",
       "      <td>7</td>\n",
       "      <td>8</td>\n",
       "    </tr>\n",
       "    <tr>\n",
       "      <th>6</th>\n",
       "      <td>8</td>\n",
       "      <td>UT Austin</td>\n",
       "      <td>14</td>\n",
       "      <td>11</td>\n",
       "      <td>9</td>\n",
       "    </tr>\n",
       "    <tr>\n",
       "      <th>7</th>\n",
       "      <td>9</td>\n",
       "      <td>Harvard University</td>\n",
       "      <td>9</td>\n",
       "      <td>23</td>\n",
       "      <td>18</td>\n",
       "    </tr>\n",
       "    <tr>\n",
       "      <th>8</th>\n",
       "      <td>10</td>\n",
       "      <td>UIUC</td>\n",
       "      <td>6</td>\n",
       "      <td>9</td>\n",
       "      <td>5</td>\n",
       "    </tr>\n",
       "    <tr>\n",
       "      <th>9</th>\n",
       "      <td>11</td>\n",
       "      <td>UW Madison</td>\n",
       "      <td>18</td>\n",
       "      <td>12</td>\n",
       "      <td>11</td>\n",
       "    </tr>\n",
       "    <tr>\n",
       "      <th>10</th>\n",
       "      <td>12</td>\n",
       "      <td>UCLA</td>\n",
       "      <td>10</td>\n",
       "      <td>16</td>\n",
       "      <td>13</td>\n",
       "    </tr>\n",
       "    <tr>\n",
       "      <th>11</th>\n",
       "      <td>12</td>\n",
       "      <td>UCLA</td>\n",
       "      <td>10</td>\n",
       "      <td>16</td>\n",
       "      <td>20</td>\n",
       "    </tr>\n",
       "    <tr>\n",
       "      <th>12</th>\n",
       "      <td>13</td>\n",
       "      <td>Yale University</td>\n",
       "      <td>44</td>\n",
       "      <td>17</td>\n",
       "      <td>20</td>\n",
       "    </tr>\n",
       "    <tr>\n",
       "      <th>13</th>\n",
       "      <td>14</td>\n",
       "      <td>UMCP</td>\n",
       "      <td>15</td>\n",
       "      <td>20</td>\n",
       "      <td>15</td>\n",
       "    </tr>\n",
       "    <tr>\n",
       "      <th>14</th>\n",
       "      <td>15</td>\n",
       "      <td>Brown University</td>\n",
       "      <td>26</td>\n",
       "      <td>26</td>\n",
       "      <td>20</td>\n",
       "    </tr>\n",
       "    <tr>\n",
       "      <th>15</th>\n",
       "      <td>16</td>\n",
       "      <td>UW Seattle</td>\n",
       "      <td>24</td>\n",
       "      <td>6</td>\n",
       "      <td>6</td>\n",
       "    </tr>\n",
       "    <tr>\n",
       "      <th>16</th>\n",
       "      <td>17</td>\n",
       "      <td>UMass Amherst</td>\n",
       "      <td>23</td>\n",
       "      <td>22</td>\n",
       "      <td>25</td>\n",
       "    </tr>\n",
       "    <tr>\n",
       "      <th>17</th>\n",
       "      <td>18</td>\n",
       "      <td>Rice University</td>\n",
       "      <td>47</td>\n",
       "      <td>21</td>\n",
       "      <td>20</td>\n",
       "    </tr>\n",
       "    <tr>\n",
       "      <th>18</th>\n",
       "      <td>20</td>\n",
       "      <td>UMich Ann Arbor</td>\n",
       "      <td>17</td>\n",
       "      <td>13</td>\n",
       "      <td>13</td>\n",
       "    </tr>\n",
       "    <tr>\n",
       "      <th>19</th>\n",
       "      <td>22</td>\n",
       "      <td>Georgia Tech</td>\n",
       "      <td>12</td>\n",
       "      <td>3</td>\n",
       "      <td>9</td>\n",
       "    </tr>\n",
       "    <tr>\n",
       "      <th>20</th>\n",
       "      <td>23</td>\n",
       "      <td>NYU</td>\n",
       "      <td>49</td>\n",
       "      <td>33</td>\n",
       "      <td>29</td>\n",
       "    </tr>\n",
       "    <tr>\n",
       "      <th>21</th>\n",
       "      <td>23</td>\n",
       "      <td>NYU</td>\n",
       "      <td>49</td>\n",
       "      <td>33</td>\n",
       "      <td>70</td>\n",
       "    </tr>\n",
       "    <tr>\n",
       "      <th>22</th>\n",
       "      <td>24</td>\n",
       "      <td>UPenn</td>\n",
       "      <td>13</td>\n",
       "      <td>10</td>\n",
       "      <td>19</td>\n",
       "    </tr>\n",
       "    <tr>\n",
       "      <th>23</th>\n",
       "      <td>45</td>\n",
       "      <td>UPenn</td>\n",
       "      <td>13</td>\n",
       "      <td>10</td>\n",
       "      <td>19</td>\n",
       "    </tr>\n",
       "    <tr>\n",
       "      <th>24</th>\n",
       "      <td>25</td>\n",
       "      <td>NWU</td>\n",
       "      <td>54</td>\n",
       "      <td>38</td>\n",
       "      <td>34</td>\n",
       "    </tr>\n",
       "    <tr>\n",
       "      <th>25</th>\n",
       "      <td>26</td>\n",
       "      <td>Purdue University</td>\n",
       "      <td>28</td>\n",
       "      <td>29</td>\n",
       "      <td>20</td>\n",
       "    </tr>\n",
       "    <tr>\n",
       "      <th>26</th>\n",
       "      <td>27</td>\n",
       "      <td>UCSD</td>\n",
       "      <td>16</td>\n",
       "      <td>19</td>\n",
       "      <td>15</td>\n",
       "    </tr>\n",
       "    <tr>\n",
       "      <th>27</th>\n",
       "      <td>28</td>\n",
       "      <td>Rutgers</td>\n",
       "      <td>70</td>\n",
       "      <td>48</td>\n",
       "      <td>34</td>\n",
       "    </tr>\n",
       "    <tr>\n",
       "      <th>28</th>\n",
       "      <td>29</td>\n",
       "      <td>Columbia University</td>\n",
       "      <td>20</td>\n",
       "      <td>18</td>\n",
       "      <td>15</td>\n",
       "    </tr>\n",
       "    <tr>\n",
       "      <th>29</th>\n",
       "      <td>30</td>\n",
       "      <td>UNC Chapel Hill</td>\n",
       "      <td>8</td>\n",
       "      <td>24</td>\n",
       "      <td>25</td>\n",
       "    </tr>\n",
       "    <tr>\n",
       "      <th>30</th>\n",
       "      <td>34</td>\n",
       "      <td>Duke University</td>\n",
       "      <td>22</td>\n",
       "      <td>27</td>\n",
       "      <td>25</td>\n",
       "    </tr>\n",
       "    <tr>\n",
       "      <th>31</th>\n",
       "      <td>35</td>\n",
       "      <td>UC Irvine</td>\n",
       "      <td>33</td>\n",
       "      <td>36</td>\n",
       "      <td>29</td>\n",
       "    </tr>\n",
       "    <tr>\n",
       "      <th>32</th>\n",
       "      <td>38</td>\n",
       "      <td>OSU</td>\n",
       "      <td>32</td>\n",
       "      <td>39</td>\n",
       "      <td>34</td>\n",
       "    </tr>\n",
       "    <tr>\n",
       "      <th>33</th>\n",
       "      <td>41</td>\n",
       "      <td>JHU</td>\n",
       "      <td>76</td>\n",
       "      <td>31</td>\n",
       "      <td>28</td>\n",
       "    </tr>\n",
       "    <tr>\n",
       "      <th>34</th>\n",
       "      <td>46</td>\n",
       "      <td>UMinn Twin Cities</td>\n",
       "      <td>30</td>\n",
       "      <td>35</td>\n",
       "      <td>29</td>\n",
       "    </tr>\n",
       "    <tr>\n",
       "      <th>35</th>\n",
       "      <td>53</td>\n",
       "      <td>UC Santa Barbara</td>\n",
       "      <td>11</td>\n",
       "      <td>42</td>\n",
       "      <td>34</td>\n",
       "    </tr>\n",
       "    <tr>\n",
       "      <th>36</th>\n",
       "      <td>60</td>\n",
       "      <td>UC Davis</td>\n",
       "      <td>43</td>\n",
       "      <td>45</td>\n",
       "      <td>34</td>\n",
       "    </tr>\n",
       "  </tbody>\n",
       "</table>\n",
       "</div>"
      ],
      "text/plain": [
       "   Rank_MSINUS            University  Rank_HS  Rank_TFE Rank_USN\n",
       "0            1                   MIT        2         5        1\n",
       "1            2   Stanford University        1         1        1\n",
       "2            3           UC Berkeley        5         4        1\n",
       "3            4                   CMU        4         2        1\n",
       "4            5    Cornell University        7         8        6\n",
       "5            6  Princeton University        3         7        8\n",
       "6            8             UT Austin       14        11        9\n",
       "7            9    Harvard University        9        23       18\n",
       "8           10                  UIUC        6         9        5\n",
       "9           11            UW Madison       18        12       11\n",
       "10          12                  UCLA       10        16       13\n",
       "11          12                  UCLA       10        16       20\n",
       "12          13       Yale University       44        17       20\n",
       "13          14                  UMCP       15        20       15\n",
       "14          15      Brown University       26        26       20\n",
       "15          16            UW Seattle       24         6        6\n",
       "16          17         UMass Amherst       23        22       25\n",
       "17          18       Rice University       47        21       20\n",
       "18          20       UMich Ann Arbor       17        13       13\n",
       "19          22          Georgia Tech       12         3        9\n",
       "20          23                   NYU       49        33       29\n",
       "21          23                   NYU       49        33       70\n",
       "22          24                 UPenn       13        10       19\n",
       "23          45                 UPenn       13        10       19\n",
       "24          25                   NWU       54        38       34\n",
       "25          26     Purdue University       28        29       20\n",
       "26          27                  UCSD       16        19       15\n",
       "27          28               Rutgers       70        48       34\n",
       "28          29   Columbia University       20        18       15\n",
       "29          30       UNC Chapel Hill        8        24       25\n",
       "30          34       Duke University       22        27       25\n",
       "31          35             UC Irvine       33        36       29\n",
       "32          38                   OSU       32        39       34\n",
       "33          41                   JHU       76        31       28\n",
       "34          46     UMinn Twin Cities       30        35       29\n",
       "35          53      UC Santa Barbara       11        42       34\n",
       "36          60              UC Davis       43        45       34"
      ]
     },
     "execution_count": 39,
     "metadata": {},
     "output_type": "execute_result"
    }
   ],
   "source": [
    "z"
   ]
  },
  {
   "cell_type": "code",
   "execution_count": 34,
   "metadata": {
    "collapsed": false
   },
   "outputs": [
    {
     "data": {
      "text/html": [
       "<div>\n",
       "<table border=\"1\" class=\"dataframe\">\n",
       "  <thead>\n",
       "    <tr style=\"text-align: right;\">\n",
       "      <th></th>\n",
       "      <th>Rank_TFE</th>\n",
       "      <th>University</th>\n",
       "    </tr>\n",
       "  </thead>\n",
       "  <tbody>\n",
       "    <tr>\n",
       "      <th>150</th>\n",
       "      <td>151</td>\n",
       "      <td>Loyola University Maryland</td>\n",
       "    </tr>\n",
       "  </tbody>\n",
       "</table>\n",
       "</div>"
      ],
      "text/plain": [
       "     Rank_TFE                  University\n",
       "150       151  Loyola University Maryland"
      ]
     },
     "execution_count": 34,
     "metadata": {},
     "output_type": "execute_result"
    }
   ],
   "source": [
    "df_tfe.loc[df_tfe['University'].str.contains('Maryland')]"
   ]
  },
  {
   "cell_type": "code",
   "execution_count": null,
   "metadata": {
    "collapsed": true
   },
   "outputs": [],
   "source": []
  }
 ],
 "metadata": {
  "kernelspec": {
   "display_name": "Python 3",
   "language": "python",
   "name": "python3"
  },
  "language_info": {
   "codemirror_mode": {
    "name": "ipython",
    "version": 3
   },
   "file_extension": ".py",
   "mimetype": "text/x-python",
   "name": "python",
   "nbconvert_exporter": "python",
   "pygments_lexer": "ipython3",
   "version": "3.5.2"
  }
 },
 "nbformat": 4,
 "nbformat_minor": 0
}
